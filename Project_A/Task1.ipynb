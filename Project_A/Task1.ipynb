{
 "cells": [
  {
   "cell_type": "markdown",
   "metadata": {
    "id": "6WYMfvCNPwpm"
   },
   "source": [
    "# Project A: Knowledge Distillation for Building Lightweight Deep Learning Models in Visual Classification Tasks"
   ]
  },
  {
   "cell_type": "code",
   "execution_count": 1,
   "metadata": {
    "id": "vA8ppgB2P0aJ"
   },
   "outputs": [],
   "source": [
    "import tensorflow.compat.v2 as tf\n",
    "import tensorflow_datasets as tfds\n",
    "from typing import Union\n",
    "\n",
    "tf.enable_v2_behavior()\n",
    "\n",
    "builder = tfds.builder('mnist')\n",
    "BATCH_SIZE = 256\n",
    "NUM_EPOCHS = 12\n",
    "NUM_CLASSES = 10  # 10 total classes."
   ]
  },
  {
   "cell_type": "markdown",
   "metadata": {
    "id": "H2EFLQROP2R7"
   },
   "source": [
    "# Data loading"
   ]
  },
  {
   "cell_type": "code",
   "execution_count": 2,
   "metadata": {
    "id": "ynByMG_UP4A4"
   },
   "outputs": [],
   "source": [
    "# Load train and test splits.\n",
    "def preprocess(x):\n",
    "  image = tf.image.convert_image_dtype(x['image'], tf.float32)\n",
    "  subclass_labels = tf.one_hot(x['label'], builder.info.features['label'].num_classes)\n",
    "  return image, subclass_labels\n",
    "\n",
    "\n",
    "mnist_train = tfds.load('mnist', split='train', shuffle_files=False).cache()\n",
    "mnist_train = mnist_train.map(preprocess)\n",
    "mnist_train = mnist_train.shuffle(builder.info.splits['train'].num_examples)\n",
    "mnist_train = mnist_train.batch(BATCH_SIZE, drop_remainder=True)\n",
    "\n",
    "mnist_test = tfds.load('mnist', split='test').cache()\n",
    "mnist_test = mnist_test.map(preprocess).batch(BATCH_SIZE)"
   ]
  },
  {
   "cell_type": "code",
   "execution_count": 3,
   "metadata": {},
   "outputs": [
    {
     "name": "stdout",
     "output_type": "stream",
     "text": [
      "<BatchDataset element_spec=(TensorSpec(shape=(256, 28, 28, 1), dtype=tf.float32, name=None), TensorSpec(shape=(256, 10), dtype=tf.float32, name=None))>\n"
     ]
    }
   ],
   "source": [
    "print(mnist_train)"
   ]
  },
  {
   "cell_type": "markdown",
   "metadata": {
    "id": "kAZwfvW5P63q"
   },
   "source": [
    "# Model creation"
   ]
  },
  {
   "cell_type": "code",
   "execution_count": 4,
   "metadata": {
    "id": "zINgDkA7P7BP"
   },
   "outputs": [],
   "source": [
    "#@test {\"output\": \"ignore\"}\n",
    "\n",
    "# Build CNN teacher.\n",
    "cnn_model = tf.keras.Sequential()\n",
    "\n",
    "# your code start from here for stpe 2\n",
    "cnn_model.add(tf.keras.layers.Conv2D(filters=32, kernel_size=3,strides=1, padding='same', activation='relu', input_shape=(28, 28, 1)))\n",
    "cnn_model.add(tf.keras.layers.MaxPooling2D(pool_size=(2, 2),strides=1,padding='same'))\n",
    "cnn_model.add(tf.keras.layers.Conv2D(filters=64, kernel_size=3,strides=1, padding='same', activation='relu', input_shape=(28, 28, 1)))\n",
    "cnn_model.add(tf.keras.layers.MaxPooling2D(pool_size=(2, 2),strides=2,padding='same'))\n",
    "cnn_model.add(tf.keras.layers.Flatten())\n",
    "cnn_model.add(tf.keras.layers.Dropout(0.5))\n",
    "cnn_model.add(tf.keras.layers.Dense(128, activation='relu'))\n",
    "cnn_model.add(tf.keras.layers.Dropout(0.5))\n",
    "cnn_model.add(tf.keras.layers.Dense(NUM_CLASSES))\n",
    "\n",
    "\n",
    "# Build fully connected student.\n",
    "fc_model = tf.keras.Sequential()\n",
    "\n",
    "# your code start from here for step 2\n",
    "fc_model.add(tf.keras.layers.Flatten())\n",
    "fc_model.add(tf.keras.layers.Dense(784, activation='relu'))\n",
    "fc_model.add(tf.keras.layers.Dense(784, activation='relu'))\n",
    "fc_model.add(tf.keras.layers.Dense(NUM_CLASSES))\n"
   ]
  },
  {
   "cell_type": "markdown",
   "metadata": {
    "id": "8JWGucyrQGav"
   },
   "source": [
    "# Teacher loss function"
   ]
  },
  {
   "cell_type": "code",
   "execution_count": 5,
   "metadata": {
    "id": "DhzBP6ZLQJ57"
   },
   "outputs": [],
   "source": [
    "@tf.function\n",
    "def compute_teacher_loss(images, labels):\n",
    "  \"\"\"Compute subclass knowledge distillation teacher loss for given images\n",
    "     and labels.\n",
    "\n",
    "  Args:\n",
    "    images: Tensor representing a batch of images.\n",
    "    labels: Tensor representing a batch of labels.\n",
    "\n",
    "  Returns:\n",
    "    Scalar loss Tensor.\n",
    "  \"\"\"\n",
    "  subclass_logits = cnn_model(images, training=True)\n",
    "\n",
    "  # Compute cross-entropy loss for subclasses.\n",
    "  \n",
    "\n",
    "  # your code start from here for step 3\n",
    "  cross_entropy_loss_value = tf.nn.softmax_cross_entropy_with_logits(labels=labels, logits=subclass_logits)\n",
    "\n",
    "\n",
    "\n",
    "  return cross_entropy_loss_value"
   ]
  },
  {
   "cell_type": "markdown",
   "metadata": {
    "id": "JS8xkuH0QbOS"
   },
   "source": [
    "# Student loss function"
   ]
  },
  {
   "cell_type": "code",
   "execution_count": 6,
   "metadata": {
    "id": "lDKia4gPQMIr"
   },
   "outputs": [],
   "source": [
    "#@test {\"output\": \"ignore\"}\n",
    "\n",
    "# Hyperparameters for distillation (need to be tuned).\n",
    "ALPHA = 0.5 # task balance between cross-entropy and distillation loss\n",
    "DISTILLATION_TEMPERATURE = 4. #temperature hyperparameter\n",
    "\n",
    "def distillation_loss(teacher_logits: tf.Tensor, student_logits: tf.Tensor,\n",
    "                      temperature: Union[float, tf.Tensor]):\n",
    "  \"\"\"Compute distillation loss.\n",
    "\n",
    "  This function computes cross entropy between softened logits and softened\n",
    "  targets. The resulting loss is scaled by the squared temperature so that\n",
    "  the gradient magnitude remains approximately constant as the temperature is\n",
    "  changed. For reference, see Hinton et al., 2014, \"Distilling the knowledge in\n",
    "  a neural network.\"\n",
    "\n",
    "  Args:\n",
    "    teacher_logits: A Tensor of logits provided by the teacher.\n",
    "    student_logits: A Tensor of logits provided by the student, of the same\n",
    "      shape as `teacher_logits`.\n",
    "    temperature: Temperature to use for distillation.\n",
    "\n",
    "  Returns:\n",
    "    A scalar Tensor containing the distillation loss.\n",
    "  \"\"\"\n",
    " # your code start from here for step 3\n",
    "  soft_targets = tf.nn.softmax(teacher_logits/temperature)\n",
    "\n",
    "  return tf.reduce_mean(\n",
    "      tf.nn.softmax_cross_entropy_with_logits(\n",
    "          soft_targets, student_logits / temperature)) * temperature ** 2\n",
    "\n",
    "def compute_student_loss(images, labels):\n",
    "  \"\"\"Compute subclass knowledge distillation student loss for given images\n",
    "     and labels.\n",
    "\n",
    "  Args:\n",
    "    images: Tensor representing a batch of images.\n",
    "    labels: Tensor representing a batch of labels.\n",
    "\n",
    "  Returns:\n",
    "    Scalar loss Tensor.\n",
    "  \"\"\"\n",
    "  student_subclass_logits = fc_model(images, training=True)\n",
    "\n",
    "  # Compute subclass distillation loss between student subclass logits and\n",
    "  # softened teacher subclass targets probabilities.\n",
    "\n",
    "  # your code start from here for step 3\n",
    "\n",
    "  teacher_subclass_logits = cnn_model(images, training=False)\n",
    "  distillation_loss_value = distillation_loss(teacher_subclass_logits, student_subclass_logits, DISTILLATION_TEMPERATURE)\n",
    "\n",
    "  # Compute cross-entropy loss with hard targets.\n",
    "\n",
    "  # your code start from here for step 3\n",
    "\n",
    "  cross_entropy_loss_value = tf.nn.softmax_cross_entropy_with_logits(labels=labels, logits=student_subclass_logits)\n",
    "\n",
    "  return ALPHA * cross_entropy_loss_value + (1- ALPHA) * distillation_loss_value"
   ]
  },
  {
   "cell_type": "markdown",
   "metadata": {
    "id": "RJ1uyvurQ3w4"
   },
   "source": [
    "# Train and evaluation"
   ]
  },
  {
   "cell_type": "code",
   "execution_count": 7,
   "metadata": {
    "id": "EtoLbp8uQ4Vl"
   },
   "outputs": [],
   "source": [
    "@tf.function\n",
    "def compute_num_correct(model, images, labels):\n",
    "  \"\"\"Compute number of correctly classified images in a batch.\n",
    "\n",
    "  Args:\n",
    "    model: Instance of tf.keras.Model.\n",
    "    images: Tensor representing a batch of images.\n",
    "    labels: Tensor representing a batch of labels.\n",
    "\n",
    "  Returns:\n",
    "    Number of correctly classified images.\n",
    "  \"\"\"\n",
    "  class_logits = model(images, training=False)\n",
    "  return tf.reduce_sum(\n",
    "      tf.cast(tf.math.equal(tf.argmax(class_logits, -1), tf.argmax(labels, -1)),\n",
    "              tf.float32)), tf.argmax(class_logits, -1), tf.argmax(labels, -1)\n",
    "\n",
    "\n",
    "def train_and_evaluate(model, compute_loss_fn):\n",
    "  \"\"\"Perform training and evaluation for a given model.\n",
    "\n",
    "  Args:\n",
    "    model: Instance of tf.keras.Model.\n",
    "    compute_loss_fn: A function that computes the training loss given the\n",
    "      images, and labels.\n",
    "  \"\"\"\n",
    "\n",
    "  # your code start from here for step 4\n",
    "  optimizer = tf.keras.optimizers.Adam(learning_rate=0.001)\n",
    "\n",
    "  for epoch in range(1, NUM_EPOCHS + 1):\n",
    "    # Run training.\n",
    "    print('Epoch {}: '.format(epoch), end='')\n",
    "    for images, labels in mnist_train:\n",
    "      with tf.GradientTape() as tape:\n",
    "         # your code start from here for step 4\n",
    "\n",
    "        loss_value = compute_loss_fn(images, labels)\n",
    "\n",
    "      grads = tape.gradient(loss_value, model.trainable_variables)\n",
    "      optimizer.apply_gradients(zip(grads, model.trainable_variables))\n",
    "\n",
    "    # Run evaluation.\n",
    "    num_correct = 0\n",
    "    num_total = builder.info.splits['test'].num_examples\n",
    "    for images, labels in mnist_test:\n",
    "      # your code start from here for step 4\n",
    "      correct_results,_,_ = compute_num_correct(model, images, labels)\n",
    "      num_correct += correct_results\n",
    "\n",
    "\n",
    "    print(\"Class_accuracy: \" + '{:.2f}%'.format(\n",
    "        num_correct / num_total * 100))\n"
   ]
  },
  {
   "cell_type": "markdown",
   "metadata": {
    "id": "NQL1lJdaRPT1"
   },
   "source": [
    "# Training models"
   ]
  },
  {
   "cell_type": "code",
   "execution_count": 8,
   "metadata": {
    "id": "-AGHbyABRPz3"
   },
   "outputs": [
    {
     "name": "stdout",
     "output_type": "stream",
     "text": [
      "Epoch 1: Class_accuracy: 98.25%\n",
      "Epoch 2: Class_accuracy: 98.62%\n",
      "Epoch 3: Class_accuracy: 98.84%\n",
      "Epoch 4: Class_accuracy: 98.91%\n",
      "Epoch 5: Class_accuracy: 98.93%\n",
      "Epoch 6: Class_accuracy: 99.01%\n",
      "Epoch 7: Class_accuracy: 99.09%\n",
      "Epoch 8: Class_accuracy: 99.11%\n",
      "Epoch 9: Class_accuracy: 99.14%\n",
      "Epoch 10: Class_accuracy: 99.11%\n",
      "Epoch 11: Class_accuracy: 99.17%\n",
      "Epoch 12: Class_accuracy: 99.15%\n",
      "WARNING:tensorflow:Compiled the loaded model, but the compiled metrics have yet to be built. `model.compile_metrics` will be empty until you train or evaluate the model.\n"
     ]
    },
    {
     "name": "stderr",
     "output_type": "stream",
     "text": [
      "WARNING:tensorflow:Compiled the loaded model, but the compiled metrics have yet to be built. `model.compile_metrics` will be empty until you train or evaluate the model.\n",
      "WARNING:absl:Found untraced functions such as _jit_compiled_convolution_op, _jit_compiled_convolution_op while saving (showing 2 of 2). These functions will not be directly callable after loading.\n"
     ]
    },
    {
     "name": "stdout",
     "output_type": "stream",
     "text": [
      "INFO:tensorflow:Assets written to: task1_teacher_model\\assets\n"
     ]
    },
    {
     "name": "stderr",
     "output_type": "stream",
     "text": [
      "INFO:tensorflow:Assets written to: task1_teacher_model\\assets\n"
     ]
    },
    {
     "name": "stdout",
     "output_type": "stream",
     "text": [
      "Epoch 1: Class_accuracy: 96.72%\n",
      "Epoch 2: Class_accuracy: 97.99%\n",
      "Epoch 3: Class_accuracy: 98.21%\n",
      "Epoch 4: Class_accuracy: 98.58%\n",
      "Epoch 5: Class_accuracy: 98.70%\n",
      "Epoch 6: Class_accuracy: 98.83%\n",
      "Epoch 7: Class_accuracy: 98.84%\n",
      "Epoch 8: Class_accuracy: 98.75%\n",
      "Epoch 9: Class_accuracy: 98.81%\n",
      "Epoch 10: Class_accuracy: 98.75%\n",
      "Epoch 11: Class_accuracy: 98.80%\n",
      "Epoch 12: Class_accuracy: 98.81%\n",
      "WARNING:tensorflow:Compiled the loaded model, but the compiled metrics have yet to be built. `model.compile_metrics` will be empty until you train or evaluate the model.\n"
     ]
    },
    {
     "name": "stderr",
     "output_type": "stream",
     "text": [
      "WARNING:tensorflow:Compiled the loaded model, but the compiled metrics have yet to be built. `model.compile_metrics` will be empty until you train or evaluate the model.\n"
     ]
    },
    {
     "name": "stdout",
     "output_type": "stream",
     "text": [
      "INFO:tensorflow:Assets written to: task1_student_model\\assets\n"
     ]
    },
    {
     "name": "stderr",
     "output_type": "stream",
     "text": [
      "INFO:tensorflow:Assets written to: task1_student_model\\assets\n"
     ]
    }
   ],
   "source": [
    "# your code start from here for step 5 \n",
    "train_and_evaluate(cnn_model, compute_teacher_loss)\n",
    "cnn_model.save(\"task1_teacher_model\")\n",
    "train_and_evaluate(fc_model, compute_student_loss)\n",
    "fc_model.save(\"task1_student_model\")"
   ]
  },
  {
   "cell_type": "markdown",
   "metadata": {
    "id": "sj1N38fnRTNB"
   },
   "source": [
    "# Test accuracy vs. tempreture curve"
   ]
  },
  {
   "cell_type": "code",
   "execution_count": 23,
   "metadata": {
    "id": "gX4dbazrRWIz"
   },
   "outputs": [
    {
     "name": "stdout",
     "output_type": "stream",
     "text": [
      "current tempreature is  1\n",
      "Epoch 1: Class_accuracy: 98.56%\n",
      "Epoch 2: Class_accuracy: 98.75%\n",
      "Epoch 3: Class_accuracy: 98.64%\n",
      "Epoch 4: Class_accuracy: 98.68%\n",
      "Epoch 5: Class_accuracy: 98.67%\n",
      "Epoch 6: Class_accuracy: 98.65%\n",
      "Epoch 7: Class_accuracy: 98.60%\n",
      "Epoch 8: Class_accuracy: 98.35%\n",
      "Epoch 9: Class_accuracy: 98.54%\n",
      "Epoch 10: Class_accuracy: 98.56%\n",
      "Epoch 11: Class_accuracy: 98.54%\n",
      "Epoch 12: Class_accuracy: 98.61%\n",
      "Class_accuracy: 98.61%\n",
      "current tempreature is  2\n",
      "Epoch 1: Class_accuracy: 98.52%\n",
      "Epoch 2: Class_accuracy: 98.49%\n",
      "Epoch 3: Class_accuracy: 98.47%\n",
      "Epoch 4: Class_accuracy: 98.66%\n",
      "Epoch 5: Class_accuracy: 98.69%\n",
      "Epoch 6: Class_accuracy: 98.69%\n",
      "Epoch 7: Class_accuracy: 98.72%\n",
      "Epoch 8: Class_accuracy: 98.25%\n",
      "Epoch 9: Class_accuracy: 98.44%\n",
      "Epoch 10: Class_accuracy: 98.51%\n",
      "Epoch 11: Class_accuracy: 98.54%\n",
      "Epoch 12: Class_accuracy: 98.69%\n",
      "Class_accuracy: 98.69%\n",
      "current tempreature is  4\n",
      "Epoch 1: Class_accuracy: 98.53%\n",
      "Epoch 2: Class_accuracy: 98.57%\n",
      "Epoch 3: Class_accuracy: 98.60%\n",
      "Epoch 4: Class_accuracy: 98.65%\n",
      "Epoch 5: Class_accuracy: 98.75%\n",
      "Epoch 6: Class_accuracy: 98.69%\n",
      "Epoch 7: Class_accuracy: 98.65%\n",
      "Epoch 8: Class_accuracy: 98.32%\n",
      "Epoch 9: Class_accuracy: 98.35%\n",
      "Epoch 10: Class_accuracy: 98.58%\n",
      "Epoch 11: Class_accuracy: 98.45%\n",
      "Epoch 12: Class_accuracy: 98.55%\n",
      "Class_accuracy: 98.55%\n",
      "current tempreature is  16\n",
      "Epoch 1: Class_accuracy: 98.58%\n",
      "Epoch 2: Class_accuracy: 98.55%\n",
      "Epoch 3: Class_accuracy: 98.52%\n",
      "Epoch 4: Class_accuracy: 98.61%\n",
      "Epoch 5: Class_accuracy: 98.52%\n",
      "Epoch 6: Class_accuracy: 98.61%\n",
      "Epoch 7: Class_accuracy: 98.56%\n",
      "Epoch 8: Class_accuracy: 98.47%\n",
      "Epoch 9: Class_accuracy: 98.36%\n",
      "Epoch 10: Class_accuracy: 98.45%\n",
      "Epoch 11: Class_accuracy: 98.43%\n",
      "Epoch 12: Class_accuracy: 98.45%\n",
      "Class_accuracy: 98.45%\n",
      "current tempreature is  32\n",
      "Epoch 1: Class_accuracy: 98.59%\n",
      "Epoch 2: Class_accuracy: 98.39%\n",
      "Epoch 3: Class_accuracy: 98.47%\n",
      "Epoch 4: Class_accuracy: 98.43%\n",
      "Epoch 5: Class_accuracy: 98.52%\n",
      "Epoch 6: Class_accuracy: 98.46%\n",
      "Epoch 7: Class_accuracy: 98.39%\n",
      "Epoch 8: Class_accuracy: 98.48%\n",
      "Epoch 9: Class_accuracy: 98.46%\n",
      "Epoch 10: Class_accuracy: 98.52%\n",
      "Epoch 11: Class_accuracy: 98.50%\n",
      "Epoch 12: Class_accuracy: 98.54%\n",
      "Class_accuracy: 98.54%\n",
      "current tempreature is  64\n",
      "Epoch 1: Class_accuracy: 98.39%\n",
      "Epoch 2: Class_accuracy: 98.27%\n",
      "Epoch 3: Class_accuracy: 98.46%\n",
      "Epoch 4: Class_accuracy: 98.28%\n",
      "Epoch 5: Class_accuracy: 98.33%\n",
      "Epoch 6: Class_accuracy: 98.33%\n",
      "Epoch 7: Class_accuracy: 98.30%\n",
      "Epoch 8: Class_accuracy: 98.32%\n",
      "Epoch 9: Class_accuracy: 98.37%\n",
      "Epoch 10: Class_accuracy: 98.38%\n",
      "Epoch 11: Class_accuracy: 98.17%\n",
      "Epoch 12: Class_accuracy: 98.24%\n",
      "Class_accuracy: 98.24%\n"
     ]
    },
    {
     "data": {
      "image/png": "[encoded data removed]",
      "text/plain": [
       "<Figure size 600x600 with 1 Axes>"
      ]
     },
     "metadata": {},
     "output_type": "display_data"
    }
   ],
   "source": [
    "# your code start from here for step 6\n",
    "import matplotlib\n",
    "from matplotlib import pyplot as plt\n",
    "\n",
    "ALPHA = 0.5 # task balance between cross-entropy and distillation loss\n",
    "DISTILLATION_TEMPERATURE_LIST = [1,2,4,16,32,64] #temperature hyperparameter list\n",
    "accuracy_list = []\n",
    "\n",
    "for temp_single in DISTILLATION_TEMPERATURE_LIST:\n",
    "  \n",
    "  print('current tempreature is ', temp_single)\n",
    "  DISTILLATION_TEMPERATURE = temp_single\n",
    "  train_and_evaluate(fc_model, compute_student_loss)\n",
    "  \n",
    "  # Run evaluation.\n",
    "  num_correct = 0\n",
    "  num_total = builder.info.splits['test'].num_examples\n",
    "  \n",
    "  for images, labels in mnist_test:\n",
    "    # your code start from here for step 4\n",
    "    correct_results,_,_ = compute_num_correct(fc_model, images, labels)\n",
    "    num_correct += correct_results\n",
    "\n",
    "  print(\"Class_accuracy: \" + '{:.2f}%'.format(\n",
    "      num_correct / num_total * 100))\n",
    "\n",
    "  accuracy_list.append(num_correct / num_total * 100)\n",
    "\n",
    "\n",
    "plt.figure(figsize=(6,6))\n",
    "plt.xlabel(\"temperature hyperparameter list\")\n",
    "plt.ylabel(\"accuracy\")\n",
    "plt.plot(DISTILLATION_TEMPERATURE_LIST,accuracy_list,color='r',linewidth=1.0,linestyle='--')\n",
    "plt.show()"
   ]
  },
  {
   "cell_type": "markdown",
   "metadata": {
    "id": "WNrH_1emRbGA"
   },
   "source": [
    "# Train student from scratch"
   ]
  },
  {
   "cell_type": "code",
   "execution_count": 9,
   "metadata": {
    "id": "HjospsxIRbQ6"
   },
   "outputs": [
    {
     "name": "stdout",
     "output_type": "stream",
     "text": [
      "Epoch 1: Class_accuracy: 96.92%\n",
      "Epoch 2: Class_accuracy: 97.88%\n",
      "Epoch 3: Class_accuracy: 97.32%\n",
      "Epoch 4: Class_accuracy: 97.78%\n",
      "Epoch 5: Class_accuracy: 97.96%\n",
      "Epoch 6: Class_accuracy: 98.08%\n",
      "Epoch 7: Class_accuracy: 98.33%\n",
      "Epoch 8: Class_accuracy: 97.89%\n",
      "Epoch 9: Class_accuracy: 97.18%\n",
      "Epoch 10: Class_accuracy: 98.22%\n",
      "Epoch 11: Class_accuracy: 98.21%\n",
      "Epoch 12: Class_accuracy: 98.06%\n"
     ]
    }
   ],
   "source": [
    "# Build fully connected student.\n",
    "fc_model_no_distillation = tf.keras.Sequential()\n",
    "\n",
    "# your code start from here for step 7\n",
    "fc_model_no_distillation.add(tf.keras.layers.Flatten())\n",
    "fc_model_no_distillation.add(tf.keras.layers.Dense(784, activation='relu'))\n",
    "fc_model_no_distillation.add(tf.keras.layers.Dense(784, activation='relu'))\n",
    "fc_model_no_distillation.add(tf.keras.layers.Dense(NUM_CLASSES))\n",
    "\n",
    "\n",
    "#@test {\"output\": \"ignore\"}\n",
    "\n",
    "def compute_plain_cross_entropy_loss(images, labels):\n",
    "  \"\"\"Compute plain loss for given images and labels.\n",
    "\n",
    "  For fair comparison and convenience, this function also performs a\n",
    "  LogSumExp over subclasses, but does not perform subclass distillation.\n",
    "\n",
    "  Args:\n",
    "    images: Tensor representing a batch of images.\n",
    "    labels: Tensor representing a batch of labels.\n",
    "\n",
    "  Returns:\n",
    "    Scalar loss Tensor.\n",
    "  \"\"\"\n",
    "  # your code start from here for step 7\n",
    "\n",
    "  student_subclass_logits = fc_model_no_distillation(images, training=True)\n",
    "  cross_entropy_loss = tf.nn.softmax_cross_entropy_with_logits(labels=labels, logits=student_subclass_logits)\n",
    "  \n",
    "  return cross_entropy_loss\n",
    "\n",
    "\n",
    "train_and_evaluate(fc_model_no_distillation, compute_plain_cross_entropy_loss)"
   ]
  },
  {
   "cell_type": "markdown",
   "metadata": {
    "id": "yq3JTpQ4RuhR"
   },
   "source": [
    "# Comparing the teacher and student model (number of of parameters and FLOPs) "
   ]
  },
  {
   "cell_type": "code",
   "execution_count": 10,
   "metadata": {
    "id": "4V8GB2yRRuxF"
   },
   "outputs": [
    {
     "name": "stdout",
     "output_type": "stream",
     "text": [
      "WARNING:tensorflow:From c:\\ProgramData\\Anaconda3\\envs\\ece1512\\lib\\site-packages\\tensorflow\\python\\ops\\nn_ops.py:5250: tensor_shape_from_node_def_name (from tensorflow.python.framework.graph_util_impl) is deprecated and will be removed in a future version.\n",
      "Instructions for updating:\n",
      "Use `tf.compat.v1.graph_util.tensor_shape_from_node_def_name`\n"
     ]
    },
    {
     "name": "stderr",
     "output_type": "stream",
     "text": [
      "WARNING:tensorflow:From c:\\ProgramData\\Anaconda3\\envs\\ece1512\\lib\\site-packages\\tensorflow\\python\\ops\\nn_ops.py:5250: tensor_shape_from_node_def_name (from tensorflow.python.framework.graph_util_impl) is deprecated and will be removed in a future version.\n",
      "Instructions for updating:\n",
      "Use `tf.compat.v1.graph_util.tensor_shape_from_node_def_name`\n"
     ]
    },
    {
     "name": "stdout",
     "output_type": "stream",
     "text": [
      "WARNING:tensorflow:Layers in a Sequential model should only have a single input tensor. Received: inputs=[<tf.Tensor 'args_0:0' shape=(1, 28, 28, 1) dtype=float32>]. Consider rewriting this model with the Functional API.\n"
     ]
    },
    {
     "name": "stderr",
     "output_type": "stream",
     "text": [
      "WARNING:tensorflow:Layers in a Sequential model should only have a single input tensor. Received: inputs=[<tf.Tensor 'args_0:0' shape=(1, 28, 28, 1) dtype=float32>]. Consider rewriting this model with the Functional API.\n"
     ]
    },
    {
     "name": "stdout",
     "output_type": "stream",
     "text": [
      "The flops of teacher model is 32792714\n",
      "The flops of student model is 2475882\n",
      "Model: \"sequential\"\n",
      "_________________________________________________________________\n",
      " Layer (type)                Output Shape              Param #   \n",
      "=================================================================\n",
      " conv2d (Conv2D)             (None, 28, 28, 32)        320       \n",
      "                                                                 \n",
      " max_pooling2d (MaxPooling2D  (None, 28, 28, 32)       0         \n",
      " )                                                               \n",
      "                                                                 \n",
      " conv2d_1 (Conv2D)           (None, 28, 28, 64)        18496     \n",
      "                                                                 \n",
      " max_pooling2d_1 (MaxPooling  (None, 14, 14, 64)       0         \n",
      " 2D)                                                             \n",
      "                                                                 \n",
      " flatten (Flatten)           (None, 12544)             0         \n",
      "                                                                 \n",
      " dropout (Dropout)           (None, 12544)             0         \n",
      "                                                                 \n",
      " dense (Dense)               (None, 128)               1605760   \n",
      "                                                                 \n",
      " dropout_1 (Dropout)         (None, 128)               0         \n",
      "                                                                 \n",
      " dense_1 (Dense)             (None, 10)                1290      \n",
      "                                                                 \n",
      "=================================================================\n",
      "Total params: 1,625,866\n",
      "Trainable params: 1,625,866\n",
      "Non-trainable params: 0\n",
      "_________________________________________________________________\n",
      "Model: \"sequential_1\"\n",
      "_________________________________________________________________\n",
      " Layer (type)                Output Shape              Param #   \n",
      "=================================================================\n",
      " flatten_1 (Flatten)         (None, 784)               0         \n",
      "                                                                 \n",
      " dense_2 (Dense)             (None, 784)               615440    \n",
      "                                                                 \n",
      " dense_3 (Dense)             (None, 784)               615440    \n",
      "                                                                 \n",
      " dense_4 (Dense)             (None, 10)                7850      \n",
      "                                                                 \n",
      "=================================================================\n",
      "Total params: 1,238,730\n",
      "Trainable params: 1,238,730\n",
      "Non-trainable params: 0\n",
      "_________________________________________________________________\n"
     ]
    }
   ],
   "source": [
    "# your code start from here for step 8\n",
    "# !pip install keras_flops\n",
    "\n",
    "from keras_flops import get_flops\n",
    "\n",
    "teacher_model_flops = get_flops(cnn_model, batch_size=1)\n",
    "student_model_flops = get_flops(fc_model, batch_size=1)\n",
    "\n",
    "print('The flops of teacher model is',teacher_model_flops)\n",
    "print('The flops of student model is',student_model_flops)\n",
    "\n",
    "cnn_model.summary()\n",
    "fc_model.summary()\n"
   ]
  },
  {
   "cell_type": "markdown",
   "metadata": {
    "id": "KjwJ5oziRvRn"
   },
   "source": [
    "# Implementing the state-of-the-art KD algorithm"
   ]
  },
  {
   "cell_type": "code",
   "execution_count": 17,
   "metadata": {
    "id": "q10lybAFRvZt"
   },
   "outputs": [
    {
     "name": "stdout",
     "output_type": "stream",
     "text": [
      "Epoch 1: Class_accuracy: 96.80%\n",
      "Epoch 2: "
     ]
    }
   ],
   "source": [
    "# your code start from here for step 12\n",
    "# Seyed Iman Mirzadeh, Mehrdad Farajtabar, Ang Li, Nir Levine, Akihiro Matsukawa, and Hassan Ghasemzadeh. \n",
    "# Improved knowledge distillation via teacher assistant. \n",
    "# In Proceedings of the AAAI Conference on Artificial Intelligence, volume 34, pages 5191–5198, 2020. \n",
    "# https://ojs.aaai.org/ index.php/AAAI/article/view/5963/5819\n",
    "\n",
    "# Build Teacher assistant.\n",
    "ta_model = tf.keras.Sequential()\n",
    "ta_model.add(tf.keras.layers.Conv2D(filters=32, kernel_size=3,strides=1, padding='same', activation='relu', input_shape=(28, 28, 1)))\n",
    "ta_model.add(tf.keras.layers.MaxPooling2D(pool_size=(2, 2),strides=1,padding='same'))\n",
    "ta_model.add(tf.keras.layers.Flatten())\n",
    "ta_model.add(tf.keras.layers.Dense(784, activation='relu'))\n",
    "ta_model.add(tf.keras.layers.Dense(784, activation='relu'))\n",
    "ta_model.add(tf.keras.layers.Dropout(0.5))\n",
    "ta_model.add(tf.keras.layers.Dense(NUM_CLASSES))\n",
    "\n",
    "def compute_ta_or_student_loss(images, labels, learn_model, teach_model):\n",
    "  \"\"\"Compute subclass knowledge distillation student loss for given images\n",
    "     and labels.\n",
    "\n",
    "  Args:\n",
    "    images: Tensor representing a batch of images.\n",
    "    labels: Tensor representing a batch of labels.\n",
    "\n",
    "  Returns:\n",
    "    Scalar loss Tensor.\n",
    "  \"\"\"\n",
    "  student_subclass_logits = learn_model(images, training=True)\n",
    "\n",
    "  # Compute subclass distillation loss between student subclass logits and\n",
    "  # softened teacher subclass targets probabilities.\n",
    "\n",
    "  # your code start from here for step 3\n",
    "\n",
    "  teacher_subclass_logits = teach_model(images, training=False)\n",
    "  distillation_loss_value = distillation_loss(teacher_subclass_logits, student_subclass_logits, DISTILLATION_TEMPERATURE)\n",
    "\n",
    "  # Compute cross-entropy loss with hard targets.\n",
    "\n",
    "  # your code start from here for step 3\n",
    "\n",
    "  cross_entropy_loss_value = tf.nn.softmax_cross_entropy_with_logits(labels=labels, logits=student_subclass_logits)\n",
    "\n",
    "  return ALPHA * cross_entropy_loss_value + (1- ALPHA) * distillation_loss_value\n",
    "\n",
    "def train_and_evaluate_state_of_the_art(model, teach_model):\n",
    "  \"\"\"Perform training and evaluation for a given model.\n",
    "\n",
    "  Args:\n",
    "    model: Instance of tf.keras.Model.\n",
    "    compute_loss_fn: A function that computes the training loss given the\n",
    "      images, and labels.\n",
    "  \"\"\"\n",
    "\n",
    "  # your code start from here for step 4\n",
    "  optimizer = tf.keras.optimizers.Adam(learning_rate=0.001)\n",
    "\n",
    "  for epoch in range(1, NUM_EPOCHS + 1):\n",
    "    # Run training.\n",
    "    print('Epoch {}: '.format(epoch), end='')\n",
    "    for images, labels in mnist_train:\n",
    "      with tf.GradientTape() as tape:\n",
    "         # your code start from here for step 4\n",
    "\n",
    "        loss_value = compute_ta_or_student_loss(images, labels, model, teach_model)\n",
    "\n",
    "      grads = tape.gradient(loss_value, model.trainable_variables)\n",
    "      optimizer.apply_gradients(zip(grads, model.trainable_variables))\n",
    "\n",
    "    # Run evaluation.\n",
    "    num_correct = 0\n",
    "    num_total = builder.info.splits['test'].num_examples\n",
    "    for images, labels in mnist_test:\n",
    "      # your code start from here for step 4\n",
    "      correct_results,_,_ = compute_num_correct(model, images, labels)\n",
    "      num_correct += correct_results\n",
    "\n",
    "\n",
    "    print(\"Class_accuracy: \" + '{:.2f}%'.format(\n",
    "        num_correct / num_total * 100))\n",
    "\n",
    "# train teacher assistant model\n",
    "train_and_evaluate_state_of_the_art(ta_model, teach_model=cnn_model)\n",
    "ta_model.save(\"task1_ta_model\")\n",
    "\n",
    "# train student model from teacher assistant model\n",
    "train_and_evaluate_state_of_the_art(fc_model, teach_model=ta_model)\n",
    "ta_model.save(\"task1_student_from_ta_model\")"
   ]
  },
  {
   "cell_type": "code",
   "execution_count": 14,
   "metadata": {},
   "outputs": [
    {
     "name": "stdout",
     "output_type": "stream",
     "text": [
      "Model: \"sequential_5\"\n",
      "_________________________________________________________________\n",
      " Layer (type)                Output Shape              Param #   \n",
      "=================================================================\n",
      " conv2d_4 (Conv2D)           (None, 28, 28, 32)        320       \n",
      "                                                                 \n",
      " max_pooling2d_4 (MaxPooling  (None, 28, 28, 32)       0         \n",
      " 2D)                                                             \n",
      "                                                                 \n",
      " flatten_5 (Flatten)         (None, 25088)             0         \n",
      "                                                                 \n",
      " dense_14 (Dense)            (None, 784)               19669776  \n",
      "                                                                 \n",
      " dense_15 (Dense)            (None, 784)               615440    \n",
      "                                                                 \n",
      " dropout_4 (Dropout)         (None, 784)               0         \n",
      "                                                                 \n",
      " dense_16 (Dense)            (None, 10)                7850      \n",
      "                                                                 \n",
      "=================================================================\n",
      "Total params: 20,293,386\n",
      "Trainable params: 20,293,386\n",
      "Non-trainable params: 0\n",
      "_________________________________________________________________\n"
     ]
    }
   ],
   "source": [
    "ta_model.summary()"
   ]
  },
  {
   "cell_type": "markdown",
   "metadata": {
    "id": "6dsOmtqdieIC"
   },
   "source": [
    "# (Optional) XAI method to explain models"
   ]
  },
  {
   "cell_type": "code",
   "execution_count": null,
   "metadata": {
    "id": "X0IMIFW8ilPO"
   },
   "outputs": [],
   "source": [
    "# your code start from here for step 13\n"
   ]
  }
 ],
 "metadata": {
  "colab": {
   "provenance": []
  },
  "kernelspec": {
   "display_name": "Python 3 (ipykernel)",
   "language": "python",
   "name": "python3"
  },
  "language_info": {
   "codemirror_mode": {
    "name": "ipython",
    "version": 3
   },
   "file_extension": ".py",
   "mimetype": "text/x-python",
   "name": "python",
   "nbconvert_exporter": "python",
   "pygments_lexer": "ipython3",
   "version": "3.8.13"
  },
  "vscode": {
   "interpreter": {
    "hash": "d03c764adb86e7fe7b108c5d30474c5c945bb6d3c7f241663d66ebfb5c284ebb"
   }
  }
 },
 "nbformat": 4,
 "nbformat_minor": 1
}
